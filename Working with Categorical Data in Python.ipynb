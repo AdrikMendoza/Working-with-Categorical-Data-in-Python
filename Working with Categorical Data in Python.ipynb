{
 "cells": [
  {
   "cell_type": "markdown",
   "id": "8cbe77dd",
   "metadata": {},
   "source": [
    "# Working with Categorical Data in Python\n",
    "## Exploring categorical data"
   ]
  },
  {
   "cell_type": "code",
   "execution_count": 4,
   "id": "ba75aac3",
   "metadata": {},
   "outputs": [
    {
     "data": {
      "text/html": [
       "<div>\n",
       "<style scoped>\n",
       "    .dataframe tbody tr th:only-of-type {\n",
       "        vertical-align: middle;\n",
       "    }\n",
       "\n",
       "    .dataframe tbody tr th {\n",
       "        vertical-align: top;\n",
       "    }\n",
       "\n",
       "    .dataframe thead th {\n",
       "        text-align: right;\n",
       "    }\n",
       "</style>\n",
       "<table border=\"1\" class=\"dataframe\">\n",
       "  <thead>\n",
       "    <tr style=\"text-align: right;\">\n",
       "      <th></th>\n",
       "      <th>Age</th>\n",
       "      <th>Workclass</th>\n",
       "      <th>fnlgwt</th>\n",
       "      <th>Education</th>\n",
       "      <th>Education Num</th>\n",
       "      <th>Marital Status</th>\n",
       "      <th>Occupation</th>\n",
       "      <th>Relationship</th>\n",
       "      <th>Race</th>\n",
       "      <th>Sex</th>\n",
       "      <th>Capital Gain</th>\n",
       "      <th>Capital Loss</th>\n",
       "      <th>Hours/Week</th>\n",
       "      <th>Country</th>\n",
       "      <th>Above/Below 50k</th>\n",
       "    </tr>\n",
       "  </thead>\n",
       "  <tbody>\n",
       "    <tr>\n",
       "      <th>0</th>\n",
       "      <td>39</td>\n",
       "      <td>State-gov</td>\n",
       "      <td>77516</td>\n",
       "      <td>Bachelors</td>\n",
       "      <td>13</td>\n",
       "      <td>Never-married</td>\n",
       "      <td>Adm-clerical</td>\n",
       "      <td>Not-in-family</td>\n",
       "      <td>White</td>\n",
       "      <td>Male</td>\n",
       "      <td>2174</td>\n",
       "      <td>0</td>\n",
       "      <td>40</td>\n",
       "      <td>United-States</td>\n",
       "      <td>&lt;=50K</td>\n",
       "    </tr>\n",
       "    <tr>\n",
       "      <th>1</th>\n",
       "      <td>50</td>\n",
       "      <td>Self-emp-not-inc</td>\n",
       "      <td>83311</td>\n",
       "      <td>Bachelors</td>\n",
       "      <td>13</td>\n",
       "      <td>Married-civ-spouse</td>\n",
       "      <td>Exec-managerial</td>\n",
       "      <td>Husband</td>\n",
       "      <td>White</td>\n",
       "      <td>Male</td>\n",
       "      <td>0</td>\n",
       "      <td>0</td>\n",
       "      <td>13</td>\n",
       "      <td>United-States</td>\n",
       "      <td>&lt;=50K</td>\n",
       "    </tr>\n",
       "    <tr>\n",
       "      <th>2</th>\n",
       "      <td>38</td>\n",
       "      <td>Private</td>\n",
       "      <td>215646</td>\n",
       "      <td>HS-grad</td>\n",
       "      <td>9</td>\n",
       "      <td>Divorced</td>\n",
       "      <td>Handlers-cleaners</td>\n",
       "      <td>Not-in-family</td>\n",
       "      <td>White</td>\n",
       "      <td>Male</td>\n",
       "      <td>0</td>\n",
       "      <td>0</td>\n",
       "      <td>40</td>\n",
       "      <td>United-States</td>\n",
       "      <td>&lt;=50K</td>\n",
       "    </tr>\n",
       "    <tr>\n",
       "      <th>3</th>\n",
       "      <td>53</td>\n",
       "      <td>Private</td>\n",
       "      <td>234721</td>\n",
       "      <td>11th</td>\n",
       "      <td>7</td>\n",
       "      <td>Married-civ-spouse</td>\n",
       "      <td>Handlers-cleaners</td>\n",
       "      <td>Husband</td>\n",
       "      <td>Black</td>\n",
       "      <td>Male</td>\n",
       "      <td>0</td>\n",
       "      <td>0</td>\n",
       "      <td>40</td>\n",
       "      <td>United-States</td>\n",
       "      <td>&lt;=50K</td>\n",
       "    </tr>\n",
       "    <tr>\n",
       "      <th>4</th>\n",
       "      <td>28</td>\n",
       "      <td>Private</td>\n",
       "      <td>338409</td>\n",
       "      <td>Bachelors</td>\n",
       "      <td>13</td>\n",
       "      <td>Married-civ-spouse</td>\n",
       "      <td>Prof-specialty</td>\n",
       "      <td>Wife</td>\n",
       "      <td>Black</td>\n",
       "      <td>Female</td>\n",
       "      <td>0</td>\n",
       "      <td>0</td>\n",
       "      <td>40</td>\n",
       "      <td>Cuba</td>\n",
       "      <td>&lt;=50K</td>\n",
       "    </tr>\n",
       "  </tbody>\n",
       "</table>\n",
       "</div>"
      ],
      "text/plain": [
       "   Age          Workclass  fnlgwt   Education  Education Num  \\\n",
       "0   39          State-gov   77516   Bachelors             13   \n",
       "1   50   Self-emp-not-inc   83311   Bachelors             13   \n",
       "2   38            Private  215646     HS-grad              9   \n",
       "3   53            Private  234721        11th              7   \n",
       "4   28            Private  338409   Bachelors             13   \n",
       "\n",
       "        Marital Status          Occupation    Relationship    Race      Sex  \\\n",
       "0        Never-married        Adm-clerical   Not-in-family   White     Male   \n",
       "1   Married-civ-spouse     Exec-managerial         Husband   White     Male   \n",
       "2             Divorced   Handlers-cleaners   Not-in-family   White     Male   \n",
       "3   Married-civ-spouse   Handlers-cleaners         Husband   Black     Male   \n",
       "4   Married-civ-spouse      Prof-specialty            Wife   Black   Female   \n",
       "\n",
       "   Capital Gain  Capital Loss  Hours/Week         Country Above/Below 50k  \n",
       "0          2174             0          40   United-States           <=50K  \n",
       "1             0             0          13   United-States           <=50K  \n",
       "2             0             0          40   United-States           <=50K  \n",
       "3             0             0          40   United-States           <=50K  \n",
       "4             0             0          40            Cuba           <=50K  "
      ]
     },
     "execution_count": 4,
     "metadata": {},
     "output_type": "execute_result"
    }
   ],
   "source": [
    "import pandas as pd\n",
    "adult = pd.read_csv(\"adult.csv\")\n",
    "adult.head()"
   ]
  },
  {
   "cell_type": "code",
   "execution_count": 5,
   "id": "a39ac4cc",
   "metadata": {},
   "outputs": [
    {
     "data": {
      "text/plain": [
       "count      32561\n",
       "unique         2\n",
       "top        <=50K\n",
       "freq       24720\n",
       "Name: Above/Below 50k, dtype: object"
      ]
     },
     "execution_count": 5,
     "metadata": {},
     "output_type": "execute_result"
    }
   ],
   "source": [
    "adult['Above/Below 50k'].describe()"
   ]
  },
  {
   "cell_type": "code",
   "execution_count": 6,
   "id": "10a51efe",
   "metadata": {},
   "outputs": [
    {
     "data": {
      "text/plain": [
       " <=50K    24720\n",
       " >50K      7841\n",
       "Name: Above/Below 50k, dtype: int64"
      ]
     },
     "execution_count": 6,
     "metadata": {},
     "output_type": "execute_result"
    }
   ],
   "source": [
    "adult[\"Above/Below 50k\"].value_counts()"
   ]
  },
  {
   "cell_type": "code",
   "execution_count": 8,
   "id": "2b3266ca",
   "metadata": {},
   "outputs": [
    {
     "data": {
      "text/plain": [
       " <=50K    0.75919\n",
       " >50K     0.24081\n",
       "Name: Above/Below 50k, dtype: float64"
      ]
     },
     "execution_count": 8,
     "metadata": {},
     "output_type": "execute_result"
    }
   ],
   "source": [
    "adult[\"Above/Below 50k\"].value_counts(normalize=True)"
   ]
  },
  {
   "cell_type": "markdown",
   "id": "a37a781a",
   "metadata": {},
   "source": [
    "### How categorical data save memory"
   ]
  },
  {
   "cell_type": "code",
   "execution_count": 12,
   "id": "1b3b3d43",
   "metadata": {},
   "outputs": [],
   "source": [
    "list_of_occupations = ['Data Scientist',\n",
    " 'Data Analyst',\n",
    " 'Data Scientist',\n",
    " 'Statistician',\n",
    " 'Data Scientist',\n",
    " 'Data Scientist',\n",
    " 'Statistician',\n",
    " 'Data Scientist',\n",
    " 'Data Analyst',\n",
    " 'Data Analyst',\n",
    " 'Data Scientist',\n",
    " 'Data Scientist',\n",
    " 'Data Scientist',\n",
    " 'Data Scientist',\n",
    " 'Data Scientist',\n",
    " 'Data Analyst',\n",
    " 'Data Scientist',\n",
    " 'Data Scientist',\n",
    " 'Data Analyst',\n",
    " 'Data Scientist',\n",
    " 'Data Scientist',\n",
    " 'Data Scientist',\n",
    " 'Data Scientist',\n",
    " 'Data Scientist',\n",
    " 'Data Scientist',\n",
    " 'Data Analyst',\n",
    " 'Data Scientist',\n",
    " 'Data Scientist',\n",
    " 'Data Scientist',\n",
    " 'Data Scientist',\n",
    " 'Data Analyst',\n",
    " 'Data Scientist',\n",
    " 'Data Scientist',\n",
    " 'Data Scientist',\n",
    " 'Data Scientist',\n",
    " 'Data Scientist',\n",
    " 'Statistician',\n",
    " 'Data Analyst',\n",
    " 'Data Scientist',\n",
    " 'Data Scientist',\n",
    " 'Data Scientist',\n",
    " 'Data Analyst',\n",
    " 'Data Scientist',\n",
    " 'Data Scientist',\n",
    " 'Data Analyst',\n",
    " 'Data Scientist',\n",
    " 'Data Scientist',\n",
    " 'Data Analyst',\n",
    " 'Data Analyst',\n",
    " 'Data Scientist',\n",
    " 'Data Analyst',\n",
    " 'Data Scientist',\n",
    " 'Statistician',\n",
    " 'Data Scientist',\n",
    " 'Data Scientist',\n",
    " 'Statistician',\n",
    " 'Data Scientist',\n",
    " 'Data Scientist',\n",
    " 'Statistician']"
   ]
  },
  {
   "cell_type": "code",
   "execution_count": 13,
   "id": "2981aede",
   "metadata": {},
   "outputs": [
    {
     "name": "stdout",
     "output_type": "stream",
     "text": [
      "series1 data type: object\n",
      "series1 number of bytes: 472\n",
      "series2 data type: category\n",
      "series2 number of bytes: 83\n"
     ]
    }
   ],
   "source": [
    "# default dtype\n",
    "series1 = pd.Series(list_of_occupations)\n",
    "\n",
    "# Data type and number of bytes for series1\n",
    "print(\"series1 data type:\", series1.dtype)\n",
    "print(\"series1 number of bytes:\", series1.nbytes)\n",
    "\n",
    "# \"category\" dtype\n",
    "series2 = pd.Series(list_of_occupations, dtype=\"category\")\n",
    "\n",
    "# Data type and number of bytes for series2\n",
    "print(\"series2 data type:\", series2.dtype)\n",
    "print(\"series2 number of bytes:\", series2.nbytes)"
   ]
  },
  {
   "cell_type": "code",
   "execution_count": 14,
   "id": "8151ee5a",
   "metadata": {},
   "outputs": [],
   "source": [
    "medals_won = ['Silver',\n",
    " 'Silver',\n",
    " 'Bronze',\n",
    " 'Silver',\n",
    " 'Gold',\n",
    " 'Silver',\n",
    " 'Silver',\n",
    " 'Gold',\n",
    " 'Gold',\n",
    " 'Bronze',\n",
    " 'Bronze',\n",
    " 'Gold',\n",
    " 'Silver',\n",
    " 'Silver',\n",
    " 'Silver',\n",
    " 'Gold',\n",
    " 'Gold',\n",
    " 'Bronze',\n",
    " 'Silver',\n",
    " 'Gold',\n",
    " 'Bronze',\n",
    " 'Gold',\n",
    " 'Silver',\n",
    " 'Silver',\n",
    " 'Silver',\n",
    " 'Bronze',\n",
    " 'Gold',\n",
    " 'Gold',\n",
    " 'Silver',\n",
    " 'Gold',\n",
    " 'Silver',\n",
    " 'Silver',\n",
    " 'Silver',\n",
    " 'Gold',\n",
    " 'Gold',\n",
    " 'Silver',\n",
    " 'Silver',\n",
    " 'Silver',\n",
    " 'Silver',\n",
    " 'Silver',\n",
    " 'Gold',\n",
    " 'Gold',\n",
    " 'Gold',\n",
    " 'Silver',\n",
    " 'Silver',\n",
    " 'Gold',\n",
    " 'Gold',\n",
    " 'Gold',\n",
    " 'Silver',\n",
    " 'Bronze',\n",
    " 'Silver',\n",
    " 'Silver',\n",
    " 'Gold',\n",
    " 'Silver',\n",
    " 'Bronze',\n",
    " 'Silver',\n",
    " 'Bronze',\n",
    " 'Bronze',\n",
    " 'Gold',\n",
    " 'Silver',\n",
    " 'Gold',\n",
    " 'Bronze',\n",
    " 'Gold',\n",
    " 'Bronze',\n",
    " 'Bronze',\n",
    " 'Gold',\n",
    " 'Gold',\n",
    " 'Gold',\n",
    " 'Gold',\n",
    " 'Silver',\n",
    " 'Silver',\n",
    " 'Bronze',\n",
    " 'Gold',\n",
    " 'Silver',\n",
    " 'Gold',\n",
    " 'Bronze',\n",
    " 'Silver',\n",
    " 'Silver',\n",
    " 'Gold',\n",
    " 'Silver',\n",
    " 'Silver',\n",
    " 'Silver',\n",
    " 'Bronze',\n",
    " 'Gold',\n",
    " 'Gold',\n",
    " 'Gold',\n",
    " 'Silver',\n",
    " 'Silver',\n",
    " 'Bronze',\n",
    " 'Bronze',\n",
    " 'Gold',\n",
    " 'Bronze',\n",
    " 'Silver',\n",
    " 'Silver',\n",
    " 'Silver',\n",
    " 'Silver',\n",
    " 'Gold',\n",
    " 'Bronze',\n",
    " 'Bronze',\n",
    " 'Gold',\n",
    " 'Gold',\n",
    " 'Gold',\n",
    " 'Silver',\n",
    " 'Silver',\n",
    " 'Bronze',\n",
    " 'Bronze',\n",
    " 'Gold',\n",
    " 'Silver',\n",
    " 'Gold',\n",
    " 'Bronze',\n",
    " 'Bronze']"
   ]
  },
  {
   "cell_type": "code",
   "execution_count": 15,
   "id": "1cd75ab9",
   "metadata": {},
   "outputs": [
    {
     "data": {
      "text/plain": [
       "['Silver', 'Silver', 'Bronze', 'Silver', 'Gold', ..., 'Gold', 'Silver', 'Gold', 'Bronze', 'Bronze']\n",
       "Length: 111\n",
       "Categories (3, object): ['Bronze' < 'Silver' < 'Gold']"
      ]
     },
     "execution_count": 15,
     "metadata": {},
     "output_type": "execute_result"
    }
   ],
   "source": [
    "medals = pd.Categorical(medals_won, categories=[\"Bronze\", \"Silver\",\"Gold\"], ordered=True)\n",
    "medals"
   ]
  },
  {
   "cell_type": "markdown",
   "id": "28ee0d2a",
   "metadata": {},
   "source": [
    "## Converting columns to categorcal data type"
   ]
  },
  {
   "cell_type": "code",
   "execution_count": 16,
   "id": "012ff78c",
   "metadata": {},
   "outputs": [
    {
     "data": {
      "text/plain": [
       "Age                 int64\n",
       "Workclass          object\n",
       "fnlgwt              int64\n",
       "Education          object\n",
       "Education Num       int64\n",
       "Marital Status     object\n",
       "Occupation         object\n",
       "Relationship       object\n",
       "Race               object\n",
       "Sex                object\n",
       "Capital Gain        int64\n",
       "Capital Loss        int64\n",
       "Hours/Week          int64\n",
       "Country            object\n",
       "Above/Below 50k    object\n",
       "dtype: object"
      ]
     },
     "execution_count": 16,
     "metadata": {},
     "output_type": "execute_result"
    }
   ],
   "source": [
    "adult.dtypes"
   ]
  },
  {
   "cell_type": "code",
   "execution_count": 17,
   "id": "72124228",
   "metadata": {},
   "outputs": [
    {
     "data": {
      "text/plain": [
       "Age                   int64\n",
       "Workclass          category\n",
       "fnlgwt                int64\n",
       "Education          category\n",
       "Education Num         int64\n",
       "Marital Status       object\n",
       "Occupation           object\n",
       "Relationship       category\n",
       "Race                 object\n",
       "Sex                  object\n",
       "Capital Gain          int64\n",
       "Capital Loss          int64\n",
       "Hours/Week            int64\n",
       "Country              object\n",
       "Above/Below 50k    category\n",
       "dtype: object"
      ]
     },
     "execution_count": 17,
     "metadata": {},
     "output_type": "execute_result"
    }
   ],
   "source": [
    "adult_dtypes = {\n",
    "   \"Workclass\": \"category\",\n",
    "   \"Education\": \"category\",\n",
    "   \"Relationship\": \"category\",\n",
    "   \"Above/Below 50k\": \"category\" \n",
    "}\n",
    "\n",
    "\n",
    "# Read in the CSV using the dtypes parameter\n",
    "adult2 = pd.read_csv(\"adult.csv\", dtype=adult_dtypes)\n",
    "adult2.dtypes"
   ]
  },
  {
   "cell_type": "markdown",
   "id": "16737336",
   "metadata": {},
   "source": [
    "### .size()"
   ]
  },
  {
   "cell_type": "code",
   "execution_count": 21,
   "id": "a5e82115",
   "metadata": {},
   "outputs": [
    {
     "data": {
      "text/plain": [
       "Workclass     Above/Below 50k  Education    \n",
       " ?             <=50K            10th             98\n",
       "                                11th            118\n",
       "                                12th             38\n",
       "                                1st-4th          12\n",
       "                                5th-6th          28\n",
       "                                               ... \n",
       " State-gov     >50K             Some-college     31\n",
       " Without-pay   <=50K            7th-8th           1\n",
       "                                Assoc-acdm        1\n",
       "                                HS-grad           9\n",
       "                                Some-college      3\n",
       "Length: 208, dtype: int64"
      ]
     },
     "execution_count": 21,
     "metadata": {},
     "output_type": "execute_result"
    }
   ],
   "source": [
    "gb = adult.groupby(by=[\"Workclass\", \"Above/Below 50k\", \"Education\"])\n",
    "gb.size()"
   ]
  },
  {
   "cell_type": "markdown",
   "id": "deb54443",
   "metadata": {},
   "source": [
    "> Only combinations of the three variables that exist are created when using groupby(). In this example, 208 groups are created out of 288 (2 * 9 * 16) possible groups."
   ]
  },
  {
   "cell_type": "code",
   "execution_count": 22,
   "id": "e69f8f59",
   "metadata": {},
   "outputs": [
    {
     "data": {
      "text/plain": [
       "Sex      Above/Below 50k\n",
       " Female   <=50K              9592\n",
       "          >50K               1179\n",
       " Male     <=50K             15128\n",
       "          >50K               6662\n",
       "dtype: int64"
      ]
     },
     "execution_count": 22,
     "metadata": {},
     "output_type": "execute_result"
    }
   ],
   "source": [
    "gb = adult.groupby(by=[\"Sex\",\"Above/Below 50k\"])\n",
    "gb.size()"
   ]
  },
  {
   "cell_type": "code",
   "execution_count": 23,
   "id": "83d927e7",
   "metadata": {},
   "outputs": [
    {
     "data": {
      "text/html": [
       "<div>\n",
       "<style scoped>\n",
       "    .dataframe tbody tr th:only-of-type {\n",
       "        vertical-align: middle;\n",
       "    }\n",
       "\n",
       "    .dataframe tbody tr th {\n",
       "        vertical-align: top;\n",
       "    }\n",
       "\n",
       "    .dataframe thead th {\n",
       "        text-align: right;\n",
       "    }\n",
       "</style>\n",
       "<table border=\"1\" class=\"dataframe\">\n",
       "  <thead>\n",
       "    <tr style=\"text-align: right;\">\n",
       "      <th></th>\n",
       "      <th></th>\n",
       "      <th>Age</th>\n",
       "      <th>fnlgwt</th>\n",
       "      <th>Education Num</th>\n",
       "      <th>Capital Gain</th>\n",
       "      <th>Capital Loss</th>\n",
       "      <th>Hours/Week</th>\n",
       "    </tr>\n",
       "    <tr>\n",
       "      <th>Sex</th>\n",
       "      <th>Above/Below 50k</th>\n",
       "      <th></th>\n",
       "      <th></th>\n",
       "      <th></th>\n",
       "      <th></th>\n",
       "      <th></th>\n",
       "      <th></th>\n",
       "    </tr>\n",
       "  </thead>\n",
       "  <tbody>\n",
       "    <tr>\n",
       "      <th rowspan=\"2\" valign=\"top\">Female</th>\n",
       "      <th>&lt;=50K</th>\n",
       "      <td>36.210801</td>\n",
       "      <td>185999.381359</td>\n",
       "      <td>9.820475</td>\n",
       "      <td>121.986134</td>\n",
       "      <td>47.364470</td>\n",
       "      <td>35.916701</td>\n",
       "    </tr>\n",
       "    <tr>\n",
       "      <th>&gt;50K</th>\n",
       "      <td>42.125530</td>\n",
       "      <td>183687.406277</td>\n",
       "      <td>11.787108</td>\n",
       "      <td>4200.389313</td>\n",
       "      <td>173.648855</td>\n",
       "      <td>40.426633</td>\n",
       "    </tr>\n",
       "    <tr>\n",
       "      <th rowspan=\"2\" valign=\"top\">Male</th>\n",
       "      <th>&lt;=50K</th>\n",
       "      <td>37.147012</td>\n",
       "      <td>193093.609268</td>\n",
       "      <td>9.452142</td>\n",
       "      <td>165.723823</td>\n",
       "      <td>56.806782</td>\n",
       "      <td>40.693879</td>\n",
       "    </tr>\n",
       "    <tr>\n",
       "      <th>&gt;50K</th>\n",
       "      <td>44.625788</td>\n",
       "      <td>188769.101321</td>\n",
       "      <td>11.580606</td>\n",
       "      <td>3971.765836</td>\n",
       "      <td>198.780396</td>\n",
       "      <td>46.366106</td>\n",
       "    </tr>\n",
       "  </tbody>\n",
       "</table>\n",
       "</div>"
      ],
      "text/plain": [
       "                               Age         fnlgwt  Education Num  \\\n",
       "Sex     Above/Below 50k                                            \n",
       " Female  <=50K           36.210801  185999.381359       9.820475   \n",
       "         >50K            42.125530  183687.406277      11.787108   \n",
       " Male    <=50K           37.147012  193093.609268       9.452142   \n",
       "         >50K            44.625788  188769.101321      11.580606   \n",
       "\n",
       "                         Capital Gain  Capital Loss  Hours/Week  \n",
       "Sex     Above/Below 50k                                          \n",
       " Female  <=50K             121.986134     47.364470   35.916701  \n",
       "         >50K             4200.389313    173.648855   40.426633  \n",
       " Male    <=50K             165.723823     56.806782   40.693879  \n",
       "         >50K             3971.765836    198.780396   46.366106  "
      ]
     },
     "execution_count": 23,
     "metadata": {},
     "output_type": "execute_result"
    }
   ],
   "source": [
    "gb.mean()"
   ]
  },
  {
   "cell_type": "code",
   "execution_count": 24,
   "id": "09e45850",
   "metadata": {},
   "outputs": [
    {
     "data": {
      "text/plain": [
       "Education      Above/Below 50k\n",
       " 10th           <=50K             36.574053\n",
       "                >50K              43.774194\n",
       " 11th           <=50K             33.322870\n",
       "                >50K              45.133333\n",
       " 12th           <=50K             35.035000\n",
       "                >50K              44.818182\n",
       " 1st-4th        <=50K             37.864198\n",
       "                >50K              48.833333\n",
       " 5th-6th        <=50K             38.539432\n",
       "                >50K              46.000000\n",
       " 7th-8th        <=50K             38.830033\n",
       "                >50K              47.500000\n",
       " 9th            <=50K             37.667351\n",
       "                >50K              44.851852\n",
       " Assoc-acdm     <=50K             39.264339\n",
       "                >50K              44.256604\n",
       " Assoc-voc      <=50K             40.817826\n",
       "                >50K              43.853186\n",
       " Bachelors      <=50K             40.586152\n",
       "                >50K              45.475462\n",
       " Doctorate      <=50K             45.429907\n",
       "                >50K              47.513072\n",
       " HS-grad        <=50K             39.727510\n",
       "                >50K              45.042985\n",
       " Masters        <=50K             41.223822\n",
       "                >50K              45.917623\n",
       " Preschool      <=50K             36.647059\n",
       " Prof-school    <=50K             42.816993\n",
       "                >50K              49.092199\n",
       " Some-college   <=50K             37.450203\n",
       "                >50K              44.820476\n",
       "Name: Hours/Week, dtype: float64"
      ]
     },
     "execution_count": 24,
     "metadata": {},
     "output_type": "execute_result"
    }
   ],
   "source": [
    "user_list = [\"Education\", \"Above/Below 50k\"]\n",
    "\n",
    "# Create a GroupBy object using this list\n",
    "gb = adult.groupby(by=user_list)\n",
    "gb[\"Hours/Week\"].mean()"
   ]
  },
  {
   "cell_type": "markdown",
   "id": "8b4f7052",
   "metadata": {},
   "source": [
    "## Categorical pandas series"
   ]
  },
  {
   "cell_type": "code",
   "execution_count": 35,
   "id": "2af255f1",
   "metadata": {},
   "outputs": [
    {
     "data": {
      "text/plain": [
       "ID                     int64\n",
       "name                  object\n",
       "age                  float64\n",
       "sex                   object\n",
       "breed                 object\n",
       "date_found            object\n",
       "adoptable_from        object\n",
       "posted                object\n",
       "color                 object\n",
       "coat                  object\n",
       "size                  object\n",
       "neutered              object\n",
       "housebroken           object\n",
       "likes_people          object\n",
       "likes_children        object\n",
       "get_along_males       object\n",
       "get_along_females     object\n",
       "get_along_cats        object\n",
       "keep_in               object\n",
       "dtype: object"
      ]
     },
     "execution_count": 35,
     "metadata": {},
     "output_type": "execute_result"
    }
   ],
   "source": [
    "dogs = pd.read_csv(\"ShelterDogs.csv\")\n",
    "dogs.dtypes"
   ]
  },
  {
   "cell_type": "code",
   "execution_count": 57,
   "id": "823afe3d",
   "metadata": {},
   "outputs": [
    {
     "data": {
      "text/html": [
       "<div>\n",
       "<style scoped>\n",
       "    .dataframe tbody tr th:only-of-type {\n",
       "        vertical-align: middle;\n",
       "    }\n",
       "\n",
       "    .dataframe tbody tr th {\n",
       "        vertical-align: top;\n",
       "    }\n",
       "\n",
       "    .dataframe thead th {\n",
       "        text-align: right;\n",
       "    }\n",
       "</style>\n",
       "<table border=\"1\" class=\"dataframe\">\n",
       "  <thead>\n",
       "    <tr style=\"text-align: right;\">\n",
       "      <th></th>\n",
       "      <th>name</th>\n",
       "      <th>age</th>\n",
       "      <th>sex</th>\n",
       "      <th>breed</th>\n",
       "      <th>date_found</th>\n",
       "      <th>adoptable_from</th>\n",
       "      <th>posted</th>\n",
       "      <th>color</th>\n",
       "      <th>coat</th>\n",
       "      <th>size</th>\n",
       "      <th>neutered</th>\n",
       "      <th>housebroken</th>\n",
       "      <th>likes_people</th>\n",
       "      <th>likes_children</th>\n",
       "      <th>get_along_males</th>\n",
       "      <th>get_along_females</th>\n",
       "      <th>get_along_cats</th>\n",
       "      <th>keep_in</th>\n",
       "      <th>coat_collapsed</th>\n",
       "    </tr>\n",
       "    <tr>\n",
       "      <th>ID</th>\n",
       "      <th></th>\n",
       "      <th></th>\n",
       "      <th></th>\n",
       "      <th></th>\n",
       "      <th></th>\n",
       "      <th></th>\n",
       "      <th></th>\n",
       "      <th></th>\n",
       "      <th></th>\n",
       "      <th></th>\n",
       "      <th></th>\n",
       "      <th></th>\n",
       "      <th></th>\n",
       "      <th></th>\n",
       "      <th></th>\n",
       "      <th></th>\n",
       "      <th></th>\n",
       "      <th></th>\n",
       "      <th></th>\n",
       "    </tr>\n",
       "  </thead>\n",
       "  <tbody>\n",
       "    <tr>\n",
       "      <th>23807</th>\n",
       "      <td>Gida</td>\n",
       "      <td>0.25</td>\n",
       "      <td>female</td>\n",
       "      <td>Unknown Mix</td>\n",
       "      <td>12/10/19</td>\n",
       "      <td>12/11/19</td>\n",
       "      <td>12/11/19</td>\n",
       "      <td>red</td>\n",
       "      <td>short</td>\n",
       "      <td>small</td>\n",
       "      <td>no</td>\n",
       "      <td>NaN</td>\n",
       "      <td>NaN</td>\n",
       "      <td>NaN</td>\n",
       "      <td>NaN</td>\n",
       "      <td>NaN</td>\n",
       "      <td>NaN</td>\n",
       "      <td>NaN</td>\n",
       "      <td>short</td>\n",
       "    </tr>\n",
       "    <tr>\n",
       "      <th>533</th>\n",
       "      <td>Frida És Ricsi</td>\n",
       "      <td>0.17</td>\n",
       "      <td>female</td>\n",
       "      <td>Unknown Mix</td>\n",
       "      <td>12/1/19</td>\n",
       "      <td>12/1/19</td>\n",
       "      <td>12/9/19</td>\n",
       "      <td>black and white</td>\n",
       "      <td>short</td>\n",
       "      <td>small</td>\n",
       "      <td>no</td>\n",
       "      <td>NaN</td>\n",
       "      <td>yes</td>\n",
       "      <td>Yes</td>\n",
       "      <td>yes</td>\n",
       "      <td>yes</td>\n",
       "      <td>yes</td>\n",
       "      <td>NaN</td>\n",
       "      <td>short</td>\n",
       "    </tr>\n",
       "    <tr>\n",
       "      <th>23793</th>\n",
       "      <td>NaN</td>\n",
       "      <td>4.00</td>\n",
       "      <td>male</td>\n",
       "      <td>Unknown Mix</td>\n",
       "      <td>12/8/19</td>\n",
       "      <td>12/23/19</td>\n",
       "      <td>12/8/19</td>\n",
       "      <td>saddle back</td>\n",
       "      <td>short</td>\n",
       "      <td>medium</td>\n",
       "      <td>no</td>\n",
       "      <td>NaN</td>\n",
       "      <td>NaN</td>\n",
       "      <td>NaN</td>\n",
       "      <td>NaN</td>\n",
       "      <td>NaN</td>\n",
       "      <td>NaN</td>\n",
       "      <td>NaN</td>\n",
       "      <td>short</td>\n",
       "    </tr>\n",
       "    <tr>\n",
       "      <th>23795</th>\n",
       "      <td>NaN</td>\n",
       "      <td>1.00</td>\n",
       "      <td>male</td>\n",
       "      <td>Unknown Mix</td>\n",
       "      <td>12/8/19</td>\n",
       "      <td>12/23/19</td>\n",
       "      <td>12/8/19</td>\n",
       "      <td>yellow-brown</td>\n",
       "      <td>medium</td>\n",
       "      <td>medium</td>\n",
       "      <td>no</td>\n",
       "      <td>NaN</td>\n",
       "      <td>NaN</td>\n",
       "      <td>NaN</td>\n",
       "      <td>NaN</td>\n",
       "      <td>NaN</td>\n",
       "      <td>NaN</td>\n",
       "      <td>NaN</td>\n",
       "      <td>medium</td>\n",
       "    </tr>\n",
       "    <tr>\n",
       "      <th>23806</th>\n",
       "      <td>Amy</td>\n",
       "      <td>2.00</td>\n",
       "      <td>female</td>\n",
       "      <td>French Bulldog Mix</td>\n",
       "      <td>12/10/19</td>\n",
       "      <td>12/11/19</td>\n",
       "      <td>12/11/19</td>\n",
       "      <td>black</td>\n",
       "      <td>short</td>\n",
       "      <td>small</td>\n",
       "      <td>no</td>\n",
       "      <td>NaN</td>\n",
       "      <td>NaN</td>\n",
       "      <td>NaN</td>\n",
       "      <td>NaN</td>\n",
       "      <td>NaN</td>\n",
       "      <td>NaN</td>\n",
       "      <td>NaN</td>\n",
       "      <td>short</td>\n",
       "    </tr>\n",
       "  </tbody>\n",
       "</table>\n",
       "</div>"
      ],
      "text/plain": [
       "                 name   age     sex               breed date_found  \\\n",
       "ID                                                                   \n",
       "23807            Gida  0.25  female         Unknown Mix   12/10/19   \n",
       "533    Frida És Ricsi  0.17  female         Unknown Mix    12/1/19   \n",
       "23793             NaN  4.00    male         Unknown Mix    12/8/19   \n",
       "23795             NaN  1.00    male         Unknown Mix    12/8/19   \n",
       "23806             Amy  2.00  female  French Bulldog Mix   12/10/19   \n",
       "\n",
       "      adoptable_from    posted            color    coat    size neutered  \\\n",
       "ID                                                                         \n",
       "23807       12/11/19  12/11/19              red   short   small       no   \n",
       "533          12/1/19   12/9/19  black and white   short   small       no   \n",
       "23793       12/23/19   12/8/19      saddle back   short  medium       no   \n",
       "23795       12/23/19   12/8/19     yellow-brown  medium  medium       no   \n",
       "23806       12/11/19  12/11/19            black   short   small       no   \n",
       "\n",
       "      housebroken likes_people likes_children get_along_males  \\\n",
       "ID                                                              \n",
       "23807         NaN          NaN            NaN             NaN   \n",
       "533           NaN          yes            Yes             yes   \n",
       "23793         NaN          NaN            NaN             NaN   \n",
       "23795         NaN          NaN            NaN             NaN   \n",
       "23806         NaN          NaN            NaN             NaN   \n",
       "\n",
       "      get_along_females get_along_cats keep_in coat_collapsed  \n",
       "ID                                                             \n",
       "23807               NaN            NaN     NaN          short  \n",
       "533                 yes            yes     NaN          short  \n",
       "23793               NaN            NaN     NaN          short  \n",
       "23795               NaN            NaN     NaN         medium  \n",
       "23806               NaN            NaN     NaN          short  "
      ]
     },
     "execution_count": 57,
     "metadata": {},
     "output_type": "execute_result"
    }
   ],
   "source": [
    "dogs.set_index(\"ID\", inplace=True)\n",
    "dogs.head()"
   ]
  },
  {
   "cell_type": "markdown",
   "id": "78e88a35",
   "metadata": {},
   "source": [
    "### Adding categories to a column"
   ]
  },
  {
   "cell_type": "code",
   "execution_count": 36,
   "id": "ee65b71b",
   "metadata": {},
   "outputs": [
    {
     "data": {
      "text/plain": [
       "both flat and garden    1224\n",
       "NaN                     1021\n",
       "garden                   510\n",
       "flat                     182\n",
       "Name: keep_in, dtype: int64"
      ]
     },
     "execution_count": 36,
     "metadata": {},
     "output_type": "execute_result"
    }
   ],
   "source": [
    "# Check frequency counts while also printing the NaN count\n",
    "dogs[\"keep_in\"].value_counts(dropna=False)"
   ]
  },
  {
   "cell_type": "code",
   "execution_count": 37,
   "id": "e425112d",
   "metadata": {},
   "outputs": [
    {
     "data": {
      "text/plain": [
       "both flat and garden       1224\n",
       "NaN                        1021\n",
       "garden                      510\n",
       "flat                        182\n",
       "Unknown History               0\n",
       "Open Yard (Countryside)       0\n",
       "Name: keep_in, dtype: int64"
      ]
     },
     "execution_count": 37,
     "metadata": {},
     "output_type": "execute_result"
    }
   ],
   "source": [
    "dogs[\"keep_in\"] = dogs[\"keep_in\"].astype(\"category\")\n",
    "\n",
    "# Add new categories\n",
    "new_categories = [\"Unknown History\", \"Open Yard (Countryside)\"]\n",
    "dogs[\"keep_in\"] = dogs[\"keep_in\"].cat.add_categories(new_categories)\n",
    "\n",
    "# Check frequency\n",
    "dogs[\"keep_in\"].value_counts(dropna=False)"
   ]
  },
  {
   "cell_type": "markdown",
   "id": "6189159f",
   "metadata": {},
   "source": [
    "### Removing categories"
   ]
  },
  {
   "cell_type": "code",
   "execution_count": 38,
   "id": "2312d8b4",
   "metadata": {},
   "outputs": [
    {
     "data": {
      "text/plain": [
       "yes    1172\n",
       "no       47\n",
       "Name: likes_children, dtype: int64"
      ]
     },
     "execution_count": 38,
     "metadata": {},
     "output_type": "execute_result"
    }
   ],
   "source": [
    "dogs[\"likes_children\"].value_counts()"
   ]
  },
  {
   "cell_type": "code",
   "execution_count": 39,
   "id": "c48c3ef9",
   "metadata": {},
   "outputs": [
    {
     "data": {
      "text/plain": [
       "Index(['no', 'yes'], dtype='object')"
      ]
     },
     "execution_count": 39,
     "metadata": {},
     "output_type": "execute_result"
    }
   ],
   "source": [
    "dogs[\"likes_children\"] = dogs[\"likes_children\"].astype(\"category\")\n",
    "# Set \"maybe\" to be \"no\"\n",
    "dogs.loc[dogs[\"likes_children\"] == \"maybe\", \"likes_children\"] = \"no\"\n",
    "dogs[\"likes_children\"].cat.categories"
   ]
  },
  {
   "cell_type": "code",
   "execution_count": null,
   "id": "3f72d2fa",
   "metadata": {},
   "outputs": [],
   "source": [
    "# Remove the `\"maybe\" category\n",
    "dogs[\"likes_children\"] = dogs[\"likes_children\"].cat.remove_categories([\"maybe\"])\n",
    "dogs[\"likes_children\"].value_counts()"
   ]
  },
  {
   "cell_type": "code",
   "execution_count": 41,
   "id": "6e330399",
   "metadata": {},
   "outputs": [
    {
     "data": {
      "text/plain": [
       "Index(['no', 'yes'], dtype='object')"
      ]
     },
     "execution_count": 41,
     "metadata": {},
     "output_type": "execute_result"
    }
   ],
   "source": [
    "dogs[\"likes_children\"].cat.categories"
   ]
  },
  {
   "cell_type": "markdown",
   "id": "c61acd51",
   "metadata": {},
   "source": [
    "### Updating categories"
   ]
  },
  {
   "cell_type": "code",
   "execution_count": 42,
   "id": "860a2344",
   "metadata": {},
   "outputs": [
    {
     "name": "stdout",
     "output_type": "stream",
     "text": [
      "Index(['No', 'Yes'], dtype='object')\n"
     ]
    }
   ],
   "source": [
    "# Create the my_changes dictionary\n",
    "my_changes = {\"no\": \"No\"}\n",
    "\n",
    "# Rename the categories listed in the my_changes dictionary\n",
    "dogs[\"likes_children\"] = dogs[\"likes_children\"].cat.rename_categories(my_changes)\n",
    "\n",
    "# Use a lambda function to convert all categories to uppercase using upper()\n",
    "dogs[\"likes_children\"] =  dogs[\"likes_children\"].cat.rename_categories(lambda c: c.title())\n",
    "\n",
    "dogs[\"likes_children\"].cat.categories"
   ]
  },
  {
   "cell_type": "markdown",
   "id": "53463b6c",
   "metadata": {},
   "source": [
    "### Collapsing categories"
   ]
  },
  {
   "cell_type": "code",
   "execution_count": 44,
   "id": "8edde5ac",
   "metadata": {
    "scrolled": true
   },
   "outputs": [
    {
     "data": {
      "text/plain": [
       "short         1972\n",
       "medium         565\n",
       "wirehaired     220\n",
       "long           180\n",
       "Name: coat, dtype: int64"
      ]
     },
     "execution_count": 44,
     "metadata": {},
     "output_type": "execute_result"
    }
   ],
   "source": [
    "dogs['coat'].value_counts()"
   ]
  },
  {
   "cell_type": "code",
   "execution_count": 45,
   "id": "7d95b084",
   "metadata": {},
   "outputs": [
    {
     "name": "stdout",
     "output_type": "stream",
     "text": [
      "short     1972\n",
      "medium     785\n",
      "long       180\n",
      "Name: coat_collapsed, dtype: int64\n"
     ]
    }
   ],
   "source": [
    "# Create the update_coats dictionary\n",
    "update_coats = {\"wirehaired\":\"medium\", \"medium-long\":\"medium\"}\n",
    "\n",
    "# Create a new column, coat_collapsed\n",
    "dogs[\"coat_collapsed\"] = dogs['coat'].replace(update_coats)\n",
    "\n",
    "# Convert the column to categorical\n",
    "dogs[\"coat_collapsed\"] = dogs[\"coat_collapsed\"].astype('category')\n",
    "\n",
    "dogs[\"coat_collapsed\"].value_counts()"
   ]
  },
  {
   "cell_type": "markdown",
   "id": "e94f8ea8",
   "metadata": {},
   "source": [
    "### Reordering categories"
   ]
  },
  {
   "cell_type": "code",
   "execution_count": 47,
   "id": "f2e71951",
   "metadata": {},
   "outputs": [
    {
     "data": {
      "text/plain": [
       "Index(['large', 'medium', 'small'], dtype='object')"
      ]
     },
     "execution_count": 47,
     "metadata": {},
     "output_type": "execute_result"
    }
   ],
   "source": [
    "dogs[\"size\"] = dogs[\"size\"].astype('category')\n",
    "dogs[\"size\"].cat.categories"
   ]
  },
  {
   "cell_type": "code",
   "execution_count": 49,
   "id": "3777a679",
   "metadata": {},
   "outputs": [
    {
     "name": "stderr",
     "output_type": "stream",
     "text": [
      "/var/folders/4n/dll6nv094h5fm4m2lhzkmtd40000gn/T/ipykernel_22160/973580844.py:2: FutureWarning: The `inplace` parameter in pandas.Categorical.reorder_categories is deprecated and will be removed in a future version. Reordering categories will always return a new Categorical object.\n",
      "  dogs[\"size\"].cat.reorder_categories(new_categories=[\"small\", \"medium\", \"large\"],ordered=True, inplace=True)\n"
     ]
    }
   ],
   "source": [
    "# Reorder the categories using the list provided\n",
    "dogs[\"size\"].cat.reorder_categories(new_categories=[\"small\", \"medium\", \"large\"],ordered=True, inplace=True)"
   ]
  },
  {
   "cell_type": "code",
   "execution_count": 50,
   "id": "f2b7f337",
   "metadata": {},
   "outputs": [
    {
     "data": {
      "text/plain": [
       "Index(['small', 'medium', 'large'], dtype='object')"
      ]
     },
     "execution_count": 50,
     "metadata": {},
     "output_type": "execute_result"
    }
   ],
   "source": [
    "dogs[\"size\"].cat.categories"
   ]
  },
  {
   "cell_type": "code",
   "execution_count": 51,
   "id": "18d0d40a",
   "metadata": {},
   "outputs": [
    {
     "data": {
      "text/plain": [
       "size    sex   \n",
       "small   male       260\n",
       "        female     214\n",
       "medium  male      1090\n",
       "        female     854\n",
       "large   male       331\n",
       "        female     188\n",
       "Name: sex, dtype: int64"
      ]
     },
     "execution_count": 51,
     "metadata": {},
     "output_type": "execute_result"
    }
   ],
   "source": [
    "dogs.groupby(\"size\")[\"sex\"].value_counts()"
   ]
  },
  {
   "cell_type": "code",
   "execution_count": 52,
   "id": "cbe8e00b",
   "metadata": {},
   "outputs": [
    {
     "data": {
      "text/plain": [
       "size                           \n",
       "small   both flat and garden       238\n",
       "        flat                        80\n",
       "        garden                      21\n",
       "        Unknown History              0\n",
       "        Open Yard (Countryside)      0\n",
       "medium  both flat and garden       795\n",
       "        garden                     317\n",
       "        flat                        97\n",
       "        Unknown History              0\n",
       "        Open Yard (Countryside)      0\n",
       "large   both flat and garden       191\n",
       "        garden                     172\n",
       "        flat                         5\n",
       "        Unknown History              0\n",
       "        Open Yard (Countryside)      0\n",
       "Name: keep_in, dtype: int64"
      ]
     },
     "execution_count": 52,
     "metadata": {},
     "output_type": "execute_result"
    }
   ],
   "source": [
    "dogs.groupby(\"size\")[\"keep_in\"].value_counts()"
   ]
  },
  {
   "cell_type": "markdown",
   "id": "19bc14d9",
   "metadata": {},
   "source": [
    "### Cleaning and accessing data"
   ]
  },
  {
   "cell_type": "code",
   "execution_count": 54,
   "id": "abfa7375",
   "metadata": {},
   "outputs": [
    {
     "name": "stdout",
     "output_type": "stream",
     "text": [
      "male      1681\n",
      "female    1256\n",
      "Name: sex, dtype: int64\n"
     ]
    }
   ],
   "source": [
    "# Fix the misspelled word\n",
    "replace_map = {\"Malez\": \"male\"}\n",
    "\n",
    "# Update the sex column using the created map\n",
    "dogs[\"sex\"] = dogs[\"sex\"].replace(replace_map)\n",
    "\n",
    "# Strip away leading whitespace\n",
    "dogs[\"sex\"] = dogs[\"sex\"].str.strip()\n",
    "\n",
    "# Make all responses lowercase\n",
    "dogs[\"sex\"] = dogs[\"sex\"].str.lower()\n",
    "\n",
    "# Convert to a categorical Series\n",
    "dogs[\"sex\"] = dogs[\"sex\"].astype('category')\n",
    "\n",
    "print(dogs[\"sex\"].value_counts())"
   ]
  },
  {
   "cell_type": "markdown",
   "id": "a7edf9bb",
   "metadata": {},
   "source": [
    "### Accessing and filtering data"
   ]
  },
  {
   "cell_type": "code",
   "execution_count": 58,
   "id": "0f9d9dbe",
   "metadata": {},
   "outputs": [
    {
     "data": {
      "text/plain": [
       "ID\n",
       "23807    short\n",
       "Name: coat, dtype: object"
      ]
     },
     "execution_count": 58,
     "metadata": {},
     "output_type": "execute_result"
    }
   ],
   "source": [
    "# Category of the coat for ID 23807\n",
    "dogs.loc[dogs.index == 23807, \"coat\"]"
   ]
  },
  {
   "cell_type": "code",
   "execution_count": 59,
   "id": "a120a708",
   "metadata": {},
   "outputs": [
    {
     "data": {
      "text/plain": [
       "male      124\n",
       "female     56\n",
       "Name: sex, dtype: int64"
      ]
     },
     "execution_count": 59,
     "metadata": {},
     "output_type": "execute_result"
    }
   ],
   "source": [
    "# Find the count of male and female dogs who have a \"long\" coat\n",
    "dogs.loc[dogs[\"coat\"] == \"long\", \"sex\"].value_counts()"
   ]
  },
  {
   "cell_type": "code",
   "execution_count": 60,
   "id": "d0557dc7",
   "metadata": {},
   "outputs": [
    {
     "data": {
      "text/plain": [
       "8.186153846153847"
      ]
     },
     "execution_count": 60,
     "metadata": {},
     "output_type": "execute_result"
    }
   ],
   "source": [
    "# Mean age of dogs with a breed of \"English Cocker Spaniel\"\n",
    "dogs.loc[dogs[\"breed\"] == \"English Cocker Spaniel\", \"age\"].mean()"
   ]
  },
  {
   "cell_type": "code",
   "execution_count": 61,
   "id": "93ca506e",
   "metadata": {},
   "outputs": [
    {
     "data": {
      "text/plain": [
       "35"
      ]
     },
     "execution_count": 61,
     "metadata": {},
     "output_type": "execute_result"
    }
   ],
   "source": [
    "# Count the number of dogs that have \"English\" in their breed name\n",
    "dogs[dogs[\"breed\"].str.contains(\"English\", regex=False)].shape[0]"
   ]
  },
  {
   "cell_type": "markdown",
   "id": "add528ab",
   "metadata": {},
   "source": [
    "## Visualizing Categorical Data"
   ]
  },
  {
   "cell_type": "code",
   "execution_count": 63,
   "id": "09794948",
   "metadata": {},
   "outputs": [
    {
     "data": {
      "text/html": [
       "<div>\n",
       "<style scoped>\n",
       "    .dataframe tbody tr th:only-of-type {\n",
       "        vertical-align: middle;\n",
       "    }\n",
       "\n",
       "    .dataframe tbody tr th {\n",
       "        vertical-align: top;\n",
       "    }\n",
       "\n",
       "    .dataframe thead th {\n",
       "        text-align: right;\n",
       "    }\n",
       "</style>\n",
       "<table border=\"1\" class=\"dataframe\">\n",
       "  <thead>\n",
       "    <tr style=\"text-align: right;\">\n",
       "      <th></th>\n",
       "      <th>User country</th>\n",
       "      <th>Nr. reviews</th>\n",
       "      <th>Nr. hotel reviews</th>\n",
       "      <th>Helpful votes</th>\n",
       "      <th>Score</th>\n",
       "      <th>Period of stay</th>\n",
       "      <th>Traveler type</th>\n",
       "      <th>Pool</th>\n",
       "      <th>Gym</th>\n",
       "      <th>Tennis court</th>\n",
       "      <th>Spa</th>\n",
       "      <th>Casino</th>\n",
       "      <th>Free internet</th>\n",
       "      <th>Hotel name</th>\n",
       "      <th>Hotel stars</th>\n",
       "      <th>Nr. rooms</th>\n",
       "      <th>User continent</th>\n",
       "      <th>Member years</th>\n",
       "      <th>Review month</th>\n",
       "      <th>Review weekday</th>\n",
       "    </tr>\n",
       "  </thead>\n",
       "  <tbody>\n",
       "    <tr>\n",
       "      <th>0</th>\n",
       "      <td>USA</td>\n",
       "      <td>11</td>\n",
       "      <td>4</td>\n",
       "      <td>13</td>\n",
       "      <td>5</td>\n",
       "      <td>Dec-Feb</td>\n",
       "      <td>Friends</td>\n",
       "      <td>NO</td>\n",
       "      <td>YES</td>\n",
       "      <td>NO</td>\n",
       "      <td>NO</td>\n",
       "      <td>YES</td>\n",
       "      <td>YES</td>\n",
       "      <td>Circus Circus Hotel &amp; Casino Las Vegas</td>\n",
       "      <td>3</td>\n",
       "      <td>3773</td>\n",
       "      <td>North America</td>\n",
       "      <td>9</td>\n",
       "      <td>January</td>\n",
       "      <td>Thursday</td>\n",
       "    </tr>\n",
       "    <tr>\n",
       "      <th>1</th>\n",
       "      <td>USA</td>\n",
       "      <td>119</td>\n",
       "      <td>21</td>\n",
       "      <td>75</td>\n",
       "      <td>3</td>\n",
       "      <td>Dec-Feb</td>\n",
       "      <td>Business</td>\n",
       "      <td>NO</td>\n",
       "      <td>YES</td>\n",
       "      <td>NO</td>\n",
       "      <td>NO</td>\n",
       "      <td>YES</td>\n",
       "      <td>YES</td>\n",
       "      <td>Circus Circus Hotel &amp; Casino Las Vegas</td>\n",
       "      <td>3</td>\n",
       "      <td>3773</td>\n",
       "      <td>North America</td>\n",
       "      <td>3</td>\n",
       "      <td>January</td>\n",
       "      <td>Friday</td>\n",
       "    </tr>\n",
       "    <tr>\n",
       "      <th>2</th>\n",
       "      <td>USA</td>\n",
       "      <td>36</td>\n",
       "      <td>9</td>\n",
       "      <td>25</td>\n",
       "      <td>5</td>\n",
       "      <td>Mar-May</td>\n",
       "      <td>Families</td>\n",
       "      <td>NO</td>\n",
       "      <td>YES</td>\n",
       "      <td>NO</td>\n",
       "      <td>NO</td>\n",
       "      <td>YES</td>\n",
       "      <td>YES</td>\n",
       "      <td>Circus Circus Hotel &amp; Casino Las Vegas</td>\n",
       "      <td>3</td>\n",
       "      <td>3773</td>\n",
       "      <td>North America</td>\n",
       "      <td>2</td>\n",
       "      <td>February</td>\n",
       "      <td>Saturday</td>\n",
       "    </tr>\n",
       "    <tr>\n",
       "      <th>3</th>\n",
       "      <td>UK</td>\n",
       "      <td>14</td>\n",
       "      <td>7</td>\n",
       "      <td>14</td>\n",
       "      <td>4</td>\n",
       "      <td>Mar-May</td>\n",
       "      <td>Friends</td>\n",
       "      <td>NO</td>\n",
       "      <td>YES</td>\n",
       "      <td>NO</td>\n",
       "      <td>NO</td>\n",
       "      <td>YES</td>\n",
       "      <td>YES</td>\n",
       "      <td>Circus Circus Hotel &amp; Casino Las Vegas</td>\n",
       "      <td>3</td>\n",
       "      <td>3773</td>\n",
       "      <td>Europe</td>\n",
       "      <td>6</td>\n",
       "      <td>February</td>\n",
       "      <td>Friday</td>\n",
       "    </tr>\n",
       "    <tr>\n",
       "      <th>4</th>\n",
       "      <td>Canada</td>\n",
       "      <td>5</td>\n",
       "      <td>5</td>\n",
       "      <td>2</td>\n",
       "      <td>4</td>\n",
       "      <td>Mar-May</td>\n",
       "      <td>Solo</td>\n",
       "      <td>NO</td>\n",
       "      <td>YES</td>\n",
       "      <td>NO</td>\n",
       "      <td>NO</td>\n",
       "      <td>YES</td>\n",
       "      <td>YES</td>\n",
       "      <td>Circus Circus Hotel &amp; Casino Las Vegas</td>\n",
       "      <td>3</td>\n",
       "      <td>3773</td>\n",
       "      <td>North America</td>\n",
       "      <td>7</td>\n",
       "      <td>March</td>\n",
       "      <td>Tuesday</td>\n",
       "    </tr>\n",
       "  </tbody>\n",
       "</table>\n",
       "</div>"
      ],
      "text/plain": [
       "  User country  Nr. reviews  Nr. hotel reviews  Helpful votes  Score  \\\n",
       "0          USA           11                  4             13      5   \n",
       "1          USA          119                 21             75      3   \n",
       "2          USA           36                  9             25      5   \n",
       "3           UK           14                  7             14      4   \n",
       "4       Canada            5                  5              2      4   \n",
       "\n",
       "  Period of stay Traveler type Pool  Gym Tennis court Spa Casino  \\\n",
       "0        Dec-Feb       Friends   NO  YES           NO  NO    YES   \n",
       "1        Dec-Feb      Business   NO  YES           NO  NO    YES   \n",
       "2        Mar-May      Families   NO  YES           NO  NO    YES   \n",
       "3        Mar-May       Friends   NO  YES           NO  NO    YES   \n",
       "4        Mar-May          Solo   NO  YES           NO  NO    YES   \n",
       "\n",
       "  Free internet                              Hotel name  Hotel stars  \\\n",
       "0           YES  Circus Circus Hotel & Casino Las Vegas            3   \n",
       "1           YES  Circus Circus Hotel & Casino Las Vegas            3   \n",
       "2           YES  Circus Circus Hotel & Casino Las Vegas            3   \n",
       "3           YES  Circus Circus Hotel & Casino Las Vegas            3   \n",
       "4           YES  Circus Circus Hotel & Casino Las Vegas            3   \n",
       "\n",
       "   Nr. rooms User continent  Member years Review month Review weekday  \n",
       "0       3773  North America             9      January       Thursday  \n",
       "1       3773  North America             3      January         Friday  \n",
       "2       3773  North America             2     February       Saturday  \n",
       "3       3773         Europe             6     February         Friday  \n",
       "4       3773  North America             7        March        Tuesday  "
      ]
     },
     "execution_count": 63,
     "metadata": {},
     "output_type": "execute_result"
    }
   ],
   "source": [
    "reviews = pd.read_csv(\"lasvegas_tripadvisor.csv\")\n",
    "reviews.head()"
   ]
  },
  {
   "cell_type": "markdown",
   "id": "ad9a0f43",
   "metadata": {},
   "source": [
    "### Box plot"
   ]
  },
  {
   "cell_type": "code",
   "execution_count": 64,
   "id": "d03d4186",
   "metadata": {},
   "outputs": [
    {
     "data": {
      "image/png": "[encoded data removed]",
      "text/plain": [
       "<Figure size 360x360 with 1 Axes>"
      ]
     },
     "metadata": {},
     "output_type": "display_data"
    }
   ],
   "source": [
    "import seaborn as sns\n",
    "import matplotlib.pyplot as plt\n",
    "# Set the font size to 1.25\n",
    "sns.set(font_scale=1.25)\n",
    "\n",
    "# Set the background to \"darkgrid\"\n",
    "sns.set_style(\"darkgrid\")\n",
    "\n",
    "# Create a boxplot\n",
    "sns.catplot(x=\"Traveler type\", y=\"Helpful votes\", data=reviews,kind=\"box\")\n",
    "plt.show()"
   ]
  },
  {
   "cell_type": "markdown",
   "id": "60ab9b25",
   "metadata": {},
   "source": [
    "###  Bar plots"
   ]
  },
  {
   "cell_type": "code",
   "execution_count": 65,
   "id": "bef6b547",
   "metadata": {},
   "outputs": [
    {
     "data": {
      "text/plain": [
       "Mar-May    128\n",
       "Jun-Aug    126\n",
       "Sep-Nov    126\n",
       "Dec-Feb    124\n",
       "Name: Period of stay, dtype: int64"
      ]
     },
     "execution_count": 65,
     "metadata": {},
     "output_type": "execute_result"
    }
   ],
   "source": [
    "reviews[\"Period of stay\"].value_counts()"
   ]
  },
  {
   "cell_type": "code",
   "execution_count": 66,
   "id": "6d87a3f7",
   "metadata": {},
   "outputs": [
    {
     "data": {
      "image/png": "[encoded data removed]",
      "text/plain": [
       "<Figure size 360x360 with 1 Axes>"
      ]
     },
     "metadata": {},
     "output_type": "display_data"
    }
   ],
   "source": [
    "sns.set(font_scale=1.4)\n",
    "sns.set_style(\"whitegrid\")\n",
    "\n",
    "# Create a bar plot of \"Helpful votes\" by \"Period of stay\"\n",
    "sns.catplot(x=\"Period of stay\", y=\"Helpful votes\", data=reviews, kind=\"bar\")\n",
    "plt.show()"
   ]
  },
  {
   "cell_type": "markdown",
   "id": "49991b44",
   "metadata": {},
   "source": [
    "#### Ordering categories"
   ]
  },
  {
   "cell_type": "code",
   "execution_count": 67,
   "id": "6c1698d6",
   "metadata": {},
   "outputs": [
    {
     "data": {
      "image/png": "[encoded data removed]",
      "text/plain": [
       "<Figure size 360x360 with 1 Axes>"
      ]
     },
     "metadata": {},
     "output_type": "display_data"
    }
   ],
   "source": [
    "# Create a bar chart\n",
    "sns.set(font_scale=.9)\n",
    "sns.set_style(\"whitegrid\")\n",
    "sns.catplot(x=\"User continent\", y=\"Score\", data=reviews, kind='bar')\n",
    "plt.show()"
   ]
  },
  {
   "cell_type": "code",
   "execution_count": 68,
   "id": "5614f062",
   "metadata": {},
   "outputs": [
    {
     "data": {
      "image/png": "[encoded data removed]",
      "text/plain": [
       "<Figure size 360x360 with 1 Axes>"
      ]
     },
     "metadata": {},
     "output_type": "display_data"
    }
   ],
   "source": [
    "# Set style\n",
    "sns.set(font_scale=.9)\n",
    "sns.set_style(\"whitegrid\")\n",
    "# Convert \"User continent\" to a categorical variable\n",
    "reviews[\"User continent\"] = reviews[\"User continent\"].astype('category')\n",
    "sns.catplot(x=\"User continent\", y=\"Score\", data=reviews, kind=\"bar\")\n",
    "plt.show()"
   ]
  },
  {
   "cell_type": "code",
   "execution_count": 69,
   "id": "7aa0c580",
   "metadata": {},
   "outputs": [
    {
     "data": {
      "image/png": "[encoded data removed]",
      "text/plain": [
       "<Figure size 360x360 with 1 Axes>"
      ]
     },
     "metadata": {},
     "output_type": "display_data"
    }
   ],
   "source": [
    "# Convert \"User continent\" to a categorical variable\n",
    "reviews[\"User continent\"] = reviews[\"User continent\"].astype(\"category\")\n",
    "\n",
    "# Reorder \"User continent\" using continent_categories and rerun the graphic\n",
    "continent_categories = list(reviews[\"User continent\"].value_counts().index)\n",
    "\n",
    "reviews[\"User continent\"] = reviews[\"User continent\"].cat.reorder_categories(new_categories=continent_categories)\n",
    "\n",
    "\n",
    "sns.set(font_scale=.9)\n",
    "sns.set_style(\"whitegrid\")\n",
    "sns.catplot(x=\"User continent\", y=\"Score\", data=reviews, kind=\"bar\")\n",
    "plt.show()"
   ]
  },
  {
   "cell_type": "markdown",
   "id": "e93410d5",
   "metadata": {},
   "source": [
    "#### Bar plot using hue"
   ]
  },
  {
   "cell_type": "code",
   "execution_count": 70,
   "id": "c3a74bf1",
   "metadata": {},
   "outputs": [
    {
     "data": {
      "image/png": "[encoded data removed]",
      "text/plain": [
       "<Figure size 513.725x360 with 1 Axes>"
      ]
     },
     "metadata": {},
     "output_type": "display_data"
    }
   ],
   "source": [
    "# Add a second category to split the data on: \"Free internet\"\n",
    "sns.set(font_scale=2)\n",
    "sns.set_style(\"darkgrid\")\n",
    "sns.catplot(x=\"Casino\", y=\"Score\", data=reviews, kind=\"bar\", hue=\"Free internet\")\n",
    "plt.show()"
   ]
  },
  {
   "cell_type": "code",
   "execution_count": 71,
   "id": "0ff3217b",
   "metadata": {},
   "outputs": [
    {
     "data": {
      "image/png": "[encoded data removed]",
      "text/plain": [
       "<Figure size 483.2x360 with 1 Axes>"
      ]
     },
     "metadata": {},
     "output_type": "display_data"
    }
   ],
   "source": [
    "# Switch the x and hue categories\n",
    "sns.set(font_scale=2)\n",
    "sns.set_style(\"darkgrid\")\n",
    "sns.catplot(x=\"Free internet\", y=\"Score\", data=reviews, kind=\"bar\", hue=\"Casino\")\n",
    "plt.show()"
   ]
  },
  {
   "cell_type": "code",
   "execution_count": 74,
   "id": "1849aedb",
   "metadata": {},
   "outputs": [
    {
     "data": {
      "image/png": "[encoded data removed]",
      "text/plain": [
       "<Figure size 421.6x360 with 1 Axes>"
      ]
     },
     "metadata": {},
     "output_type": "display_data"
    }
   ],
   "source": [
    "# Update x to be \"User continent\"\n",
    "sns.set(font_scale=1)\n",
    "sns.set_style(\"darkgrid\")\n",
    "sns.catplot(x=\"User continent\", y=\"Score\", data=reviews, kind=\"bar\", hue=\"Casino\")\n",
    "plt.show()"
   ]
  },
  {
   "cell_type": "code",
   "execution_count": 73,
   "id": "a9f557fd",
   "metadata": {
    "scrolled": true
   },
   "outputs": [
    {
     "data": {
      "image/png": "[encoded data removed]",
      "text/plain": [
       "<Figure size 421.6x360 with 1 Axes>"
      ]
     },
     "metadata": {},
     "output_type": "display_data"
    }
   ],
   "source": [
    "# Lower the font size so that all text fits on the screen.\n",
    "sns.set(font_scale=1.0)\n",
    "sns.set_style(\"darkgrid\")\n",
    "sns.catplot(x=\"User continent\", y=\"Score\", data=reviews, kind=\"bar\", hue=\"Casino\")\n",
    "plt.show()"
   ]
  },
  {
   "cell_type": "markdown",
   "id": "939ecd55",
   "metadata": {},
   "source": [
    "### Point plot"
   ]
  },
  {
   "cell_type": "code",
   "execution_count": 75,
   "id": "c26bfedc",
   "metadata": {},
   "outputs": [
    {
     "data": {
      "image/png": "[encoded data removed]",
      "text/plain": [
       "<Figure size 421.6x360 with 1 Axes>"
      ]
     },
     "metadata": {},
     "output_type": "display_data"
    }
   ],
   "source": [
    "# Point plot with catplot using \"Hotel stars\" and \"Nr. reviews\"\n",
    "sns.catplot(x=\"Hotel stars\",y=\"Nr. reviews\",data=reviews,kind=\"point\",hue=\"Pool\",dodge=True)\n",
    "plt.show()"
   ]
  },
  {
   "cell_type": "code",
   "execution_count": 76,
   "id": "bee15a9c",
   "metadata": {},
   "outputs": [
    {
     "data": {
      "image/png": "[encoded data removed]",
      "text/plain": [
       "<Figure size 478.19x360 with 1 Axes>"
      ]
     },
     "metadata": {},
     "output_type": "display_data"
    }
   ],
   "source": [
    "sns.set(font_scale=1.4)\n",
    "sns.set_style(\"darkgrid\")\n",
    "\n",
    "# Create a catplot that will count the frequency of \"Score\" across \"Traveler type\"\n",
    "sns.catplot(\n",
    "  x=\"Score\", data=reviews,kind='count', hue=\"Traveler type\" \n",
    ")\n",
    "plt.show()"
   ]
  },
  {
   "cell_type": "markdown",
   "id": "6a529b9a",
   "metadata": {},
   "source": [
    "### One visualization per group"
   ]
  },
  {
   "cell_type": "code",
   "execution_count": 77,
   "id": "8a21f3a8",
   "metadata": {},
   "outputs": [
    {
     "data": {
      "image/png": "[encoded data removed]",
      "text/plain": [
       "<Figure size 720x720 with 4 Axes>"
      ]
     },
     "metadata": {},
     "output_type": "display_data"
    }
   ],
   "source": [
    "# Create a catplot for each \"Period of stay\" broken down by \"Review weekday\"\n",
    "ax = sns.catplot(x=\"Review weekday\", col=\"Period of stay\", kind=\"count\", col_wrap=2, data=reviews)\n",
    "plt.show()"
   ]
  },
  {
   "cell_type": "markdown",
   "id": "483b47d2",
   "metadata": {},
   "source": [
    "### Updating categorical plots"
   ]
  },
  {
   "cell_type": "code",
   "execution_count": 79,
   "id": "23ed6b82",
   "metadata": {},
   "outputs": [
    {
     "data": {
      "image/png": "[encoded data removed]",
      "text/plain": [
       "<Figure size 478.19x360 with 1 Axes>"
      ]
     },
     "metadata": {},
     "output_type": "display_data"
    }
   ],
   "source": [
    "# Adjust the color\n",
    "ax = sns.catplot(\n",
    "  x=\"Free internet\", y=\"Score\",\n",
    "  hue=\"Traveler type\", kind=\"bar\",\n",
    "  data=reviews,\n",
    "  palette=sns.color_palette(\"Set2\"))\n",
    "\n",
    "ax.fig.suptitle(\"Hotel Score by Traveler Type and Free Internet Access\")\n",
    "ax.set_axis_labels(\"Free Internet\", \"Average Review Rating\")\n",
    "plt.subplots_adjust(top=0.93)\n",
    "plt.show()"
   ]
  },
  {
   "cell_type": "markdown",
   "id": "9c34c990",
   "metadata": {},
   "source": [
    "## Pitfalls and Encoding"
   ]
  },
  {
   "cell_type": "code",
   "execution_count": 80,
   "id": "7953aa10",
   "metadata": {},
   "outputs": [
    {
     "data": {
      "text/html": [
       "<div>\n",
       "<style scoped>\n",
       "    .dataframe tbody tr th:only-of-type {\n",
       "        vertical-align: middle;\n",
       "    }\n",
       "\n",
       "    .dataframe tbody tr th {\n",
       "        vertical-align: top;\n",
       "    }\n",
       "\n",
       "    .dataframe thead th {\n",
       "        text-align: right;\n",
       "    }\n",
       "</style>\n",
       "<table border=\"1\" class=\"dataframe\">\n",
       "  <thead>\n",
       "    <tr style=\"text-align: right;\">\n",
       "      <th></th>\n",
       "      <th>manufacturer_name</th>\n",
       "      <th>model_name</th>\n",
       "      <th>transmission</th>\n",
       "      <th>color</th>\n",
       "      <th>odometer_value</th>\n",
       "      <th>year_produced</th>\n",
       "      <th>engine_fuel</th>\n",
       "      <th>engine_has_gas</th>\n",
       "      <th>engine_type</th>\n",
       "      <th>engine_capacity</th>\n",
       "      <th>...</th>\n",
       "      <th>feature_1</th>\n",
       "      <th>feature_2</th>\n",
       "      <th>feature_3</th>\n",
       "      <th>feature_4</th>\n",
       "      <th>feature_5</th>\n",
       "      <th>feature_6</th>\n",
       "      <th>feature_7</th>\n",
       "      <th>feature_8</th>\n",
       "      <th>feature_9</th>\n",
       "      <th>duration_listed</th>\n",
       "    </tr>\n",
       "  </thead>\n",
       "  <tbody>\n",
       "    <tr>\n",
       "      <th>0</th>\n",
       "      <td>Subaru</td>\n",
       "      <td>Outback</td>\n",
       "      <td>automatic</td>\n",
       "      <td>silver</td>\n",
       "      <td>190000</td>\n",
       "      <td>2010</td>\n",
       "      <td>gasoline</td>\n",
       "      <td>False</td>\n",
       "      <td>gasoline</td>\n",
       "      <td>2.5</td>\n",
       "      <td>...</td>\n",
       "      <td>True</td>\n",
       "      <td>True</td>\n",
       "      <td>True</td>\n",
       "      <td>False</td>\n",
       "      <td>True</td>\n",
       "      <td>False</td>\n",
       "      <td>True</td>\n",
       "      <td>True</td>\n",
       "      <td>True</td>\n",
       "      <td>16</td>\n",
       "    </tr>\n",
       "    <tr>\n",
       "      <th>1</th>\n",
       "      <td>Subaru</td>\n",
       "      <td>Outback</td>\n",
       "      <td>automatic</td>\n",
       "      <td>blue</td>\n",
       "      <td>290000</td>\n",
       "      <td>2002</td>\n",
       "      <td>gasoline</td>\n",
       "      <td>False</td>\n",
       "      <td>gasoline</td>\n",
       "      <td>3.0</td>\n",
       "      <td>...</td>\n",
       "      <td>True</td>\n",
       "      <td>False</td>\n",
       "      <td>False</td>\n",
       "      <td>True</td>\n",
       "      <td>True</td>\n",
       "      <td>False</td>\n",
       "      <td>False</td>\n",
       "      <td>False</td>\n",
       "      <td>True</td>\n",
       "      <td>83</td>\n",
       "    </tr>\n",
       "    <tr>\n",
       "      <th>2</th>\n",
       "      <td>Subaru</td>\n",
       "      <td>Forester</td>\n",
       "      <td>automatic</td>\n",
       "      <td>red</td>\n",
       "      <td>402000</td>\n",
       "      <td>2001</td>\n",
       "      <td>gasoline</td>\n",
       "      <td>False</td>\n",
       "      <td>gasoline</td>\n",
       "      <td>2.5</td>\n",
       "      <td>...</td>\n",
       "      <td>True</td>\n",
       "      <td>False</td>\n",
       "      <td>False</td>\n",
       "      <td>False</td>\n",
       "      <td>False</td>\n",
       "      <td>False</td>\n",
       "      <td>False</td>\n",
       "      <td>True</td>\n",
       "      <td>True</td>\n",
       "      <td>151</td>\n",
       "    </tr>\n",
       "    <tr>\n",
       "      <th>3</th>\n",
       "      <td>Subaru</td>\n",
       "      <td>Impreza</td>\n",
       "      <td>mechanical</td>\n",
       "      <td>blue</td>\n",
       "      <td>10000</td>\n",
       "      <td>1999</td>\n",
       "      <td>gasoline</td>\n",
       "      <td>False</td>\n",
       "      <td>gasoline</td>\n",
       "      <td>3.0</td>\n",
       "      <td>...</td>\n",
       "      <td>False</td>\n",
       "      <td>False</td>\n",
       "      <td>False</td>\n",
       "      <td>False</td>\n",
       "      <td>False</td>\n",
       "      <td>False</td>\n",
       "      <td>False</td>\n",
       "      <td>False</td>\n",
       "      <td>False</td>\n",
       "      <td>86</td>\n",
       "    </tr>\n",
       "    <tr>\n",
       "      <th>4</th>\n",
       "      <td>Subaru</td>\n",
       "      <td>Legacy</td>\n",
       "      <td>automatic</td>\n",
       "      <td>black</td>\n",
       "      <td>280000</td>\n",
       "      <td>2001</td>\n",
       "      <td>gasoline</td>\n",
       "      <td>False</td>\n",
       "      <td>gasoline</td>\n",
       "      <td>2.5</td>\n",
       "      <td>...</td>\n",
       "      <td>True</td>\n",
       "      <td>False</td>\n",
       "      <td>True</td>\n",
       "      <td>True</td>\n",
       "      <td>False</td>\n",
       "      <td>False</td>\n",
       "      <td>False</td>\n",
       "      <td>False</td>\n",
       "      <td>True</td>\n",
       "      <td>7</td>\n",
       "    </tr>\n",
       "  </tbody>\n",
       "</table>\n",
       "<p>5 rows × 30 columns</p>\n",
       "</div>"
      ],
      "text/plain": [
       "  manufacturer_name model_name transmission   color  odometer_value  \\\n",
       "0            Subaru    Outback    automatic  silver          190000   \n",
       "1            Subaru    Outback    automatic    blue          290000   \n",
       "2            Subaru   Forester    automatic     red          402000   \n",
       "3            Subaru    Impreza   mechanical    blue           10000   \n",
       "4            Subaru     Legacy    automatic   black          280000   \n",
       "\n",
       "   year_produced engine_fuel  engine_has_gas engine_type  engine_capacity  \\\n",
       "0           2010    gasoline           False    gasoline              2.5   \n",
       "1           2002    gasoline           False    gasoline              3.0   \n",
       "2           2001    gasoline           False    gasoline              2.5   \n",
       "3           1999    gasoline           False    gasoline              3.0   \n",
       "4           2001    gasoline           False    gasoline              2.5   \n",
       "\n",
       "   ... feature_1  feature_2 feature_3 feature_4  feature_5  feature_6  \\\n",
       "0  ...      True       True      True     False       True      False   \n",
       "1  ...      True      False     False      True       True      False   \n",
       "2  ...      True      False     False     False      False      False   \n",
       "3  ...     False      False     False     False      False      False   \n",
       "4  ...      True      False      True      True      False      False   \n",
       "\n",
       "  feature_7  feature_8  feature_9  duration_listed  \n",
       "0      True       True       True               16  \n",
       "1     False      False       True               83  \n",
       "2     False       True       True              151  \n",
       "3     False      False      False               86  \n",
       "4     False      False       True                7  \n",
       "\n",
       "[5 rows x 30 columns]"
      ]
     },
     "execution_count": 80,
     "metadata": {},
     "output_type": "execute_result"
    }
   ],
   "source": [
    "used_cars = pd.read_csv('cars.csv')\n",
    "used_cars.head()"
   ]
  },
  {
   "cell_type": "code",
   "execution_count": 81,
   "id": "9984a7e1",
   "metadata": {},
   "outputs": [
    {
     "data": {
      "text/plain": [
       "sedan        13011\n",
       "hatchback     7644\n",
       "universal     5507\n",
       "suv           5164\n",
       "minivan       3608\n",
       "minibus       1369\n",
       "van            808\n",
       "coupe          652\n",
       "liftback       552\n",
       "pickup         129\n",
       "cabriolet       75\n",
       "limousine       12\n",
       "Name: body_type, dtype: int64"
      ]
     },
     "execution_count": 81,
     "metadata": {},
     "output_type": "execute_result"
    }
   ],
   "source": [
    "# Frequency table of body_type and include NaN values\n",
    "used_cars[\"body_type\"].value_counts(dropna=False)"
   ]
  },
  {
   "cell_type": "code",
   "execution_count": 82,
   "id": "e7c47ec4",
   "metadata": {},
   "outputs": [
    {
     "data": {
      "text/plain": [
       "dtype('O')"
      ]
     },
     "execution_count": 82,
     "metadata": {},
     "output_type": "execute_result"
    }
   ],
   "source": [
    "# Update NaN values\n",
    "used_cars.loc[used_cars[\"body_type\"].isna(), \"body_type\"] = \"other\"\n",
    "\n",
    "# Convert body_type to title case\n",
    "used_cars[\"body_type\"] = used_cars[\"body_type\"].str.title()\n",
    "\n",
    "# Check the dtype\n",
    "used_cars[\"body_type\"].dtype"
   ]
  },
  {
   "cell_type": "code",
   "execution_count": 89,
   "id": "3b9d7dd7",
   "metadata": {},
   "outputs": [
    {
     "data": {
      "text/plain": [
       "248864.6384469648"
      ]
     },
     "execution_count": 89,
     "metadata": {},
     "output_type": "execute_result"
    }
   ],
   "source": [
    "used_cars[\"odometer_value\"].value_counts()\n",
    "# Find the average score\n",
    "average_score = used_cars[\"odometer_value\"].astype('int').mean()\n",
    "average_score"
   ]
  },
  {
   "cell_type": "code",
   "execution_count": 86,
   "id": "8198b9dc",
   "metadata": {},
   "outputs": [
    {
     "data": {
      "text/plain": [
       "Index(['manufacturer_name', 'model_name', 'transmission', 'color',\n",
       "       'odometer_value', 'year_produced', 'engine_fuel', 'engine_has_gas',\n",
       "       'engine_type', 'engine_capacity', 'body_type', 'has_warranty', 'state',\n",
       "       'drivetrain', 'price_usd', 'is_exchangeable', 'location_region',\n",
       "       'number_of_photos', 'up_counter', 'feature_0', 'feature_1', 'feature_2',\n",
       "       'feature_3', 'feature_4', 'feature_5', 'feature_6', 'feature_7',\n",
       "       'feature_8', 'feature_9', 'duration_listed'],\n",
       "      dtype='object')"
      ]
     },
     "execution_count": 86,
     "metadata": {},
     "output_type": "execute_result"
    }
   ],
   "source": [
    "used_cars.columns"
   ]
  },
  {
   "cell_type": "markdown",
   "id": "80d269a5",
   "metadata": {},
   "source": [
    "## Label encoding"
   ]
  },
  {
   "cell_type": "code",
   "execution_count": 90,
   "id": "c97646dc",
   "metadata": {},
   "outputs": [
    {
     "data": {
      "text/plain": [
       "black     7705\n",
       "silver    6852\n",
       "blue      5802\n",
       "white     4212\n",
       "grey      3751\n",
       "red       2925\n",
       "green     2760\n",
       "other     2688\n",
       "brown      886\n",
       "violet     463\n",
       "yellow     303\n",
       "orange     184\n",
       "Name: color, dtype: int64"
      ]
     },
     "execution_count": 90,
     "metadata": {},
     "output_type": "execute_result"
    }
   ],
   "source": [
    "# Convert to categorical and print the frequency table\n",
    "used_cars[\"color\"] = used_cars[\"color\"].astype(\"category\")\n",
    "used_cars[\"color\"].value_counts()"
   ]
  },
  {
   "cell_type": "code",
   "execution_count": 92,
   "id": "da6e594b",
   "metadata": {},
   "outputs": [
    {
     "data": {
      "text/plain": [
       "0    8\n",
       "1    1\n",
       "2    7\n",
       "3    1\n",
       "4    0\n",
       "Name: color_code, dtype: int8"
      ]
     },
     "execution_count": 92,
     "metadata": {},
     "output_type": "execute_result"
    }
   ],
   "source": [
    "# Create a label encoding\n",
    "used_cars[\"color_code\"] = used_cars[\"color\"].cat.codes\n",
    "used_cars[\"color_code\"].head()"
   ]
  },
  {
   "cell_type": "code",
   "execution_count": 93,
   "id": "ca6f68ef",
   "metadata": {},
   "outputs": [
    {
     "data": {
      "text/plain": [
       "{8: 'silver',\n",
       " 1: 'blue',\n",
       " 7: 'red',\n",
       " 0: 'black',\n",
       " 4: 'grey',\n",
       " 6: 'other',\n",
       " 2: 'brown',\n",
       " 10: 'white',\n",
       " 3: 'green',\n",
       " 9: 'violet',\n",
       " 5: 'orange',\n",
       " 11: 'yellow'}"
      ]
     },
     "execution_count": 93,
     "metadata": {},
     "output_type": "execute_result"
    }
   ],
   "source": [
    "# Create codes and categories objects\n",
    "codes = used_cars[\"color\"].cat.codes\n",
    "categories = used_cars[\"color\"]\n",
    "color_map = dict(zip(codes, categories))\n",
    "color_map"
   ]
  },
  {
   "cell_type": "markdown",
   "id": "649115c2",
   "metadata": {},
   "source": [
    "### Using saved mappings"
   ]
  },
  {
   "cell_type": "code",
   "execution_count": 98,
   "id": "d123804e",
   "metadata": {},
   "outputs": [],
   "source": [
    "color_map = {1: 'other', 0: 'black', 2: 'white'}\n",
    "fuel_map = {3: 'gasoline',\n",
    " 2: 'gas',\n",
    " 0: 'diesel',\n",
    " 5: 'hybrid-petrol',\n",
    " 4: 'hybrid-diesel',\n",
    " 1: 'electric'}\n",
    "transmission_map = {0: 'automatic', 1: 'mechanical'}"
   ]
  },
  {
   "cell_type": "code",
   "execution_count": 103,
   "id": "d55c5e8e",
   "metadata": {},
   "outputs": [],
   "source": [
    "# Update the color column using the color_map\n",
    "used_cars[\"color\"] = used_cars[\"color\"].map(color_map)\n",
    "# Update the engine fuel column using the fuel_map\n",
    "used_cars[\"engine_fuel\"] = used_cars[\"engine_fuel\"].map(fuel_map)\n",
    "# Update the transmission column using the transmission_map\n",
    "used_cars[\"transmission\"] = used_cars[\"transmission\"].map(transmission_map)"
   ]
  },
  {
   "cell_type": "markdown",
   "id": "77c812a4",
   "metadata": {},
   "source": [
    "### Creating Boolean Encoding"
   ]
  },
  {
   "cell_type": "code",
   "execution_count": 104,
   "id": "e7192710",
   "metadata": {},
   "outputs": [
    {
     "data": {
      "text/plain": [
       "Volkswagen       4243\n",
       "Opel             2759\n",
       "BMW              2610\n",
       "Ford             2566\n",
       "Renault          2493\n",
       "Audi             2468\n",
       "Mercedes-Benz    2237\n",
       "Peugeot          1909\n",
       "Citroen          1562\n",
       "Nissan           1361\n",
       "Mazda            1328\n",
       "Toyota           1246\n",
       "Hyundai          1116\n",
       "Skoda            1089\n",
       "Kia               912\n",
       "Mitsubishi        887\n",
       "Fiat              824\n",
       "Honda             797\n",
       "Volvo             721\n",
       "ВАЗ               481\n",
       "Chevrolet         436\n",
       "Chrysler          410\n",
       "Seat              303\n",
       "Dodge             297\n",
       "Subaru            291\n",
       "Rover             235\n",
       "Suzuki            234\n",
       "Daewoo            221\n",
       "Lexus             213\n",
       "Alfa Romeo        207\n",
       "ГАЗ               200\n",
       "Land Rover        184\n",
       "Infiniti          162\n",
       "LADA              146\n",
       "Iveco             139\n",
       "Saab              108\n",
       "Jeep              107\n",
       "Lancia             92\n",
       "SsangYong          79\n",
       "УАЗ                74\n",
       "Geely              71\n",
       "Mini               68\n",
       "Acura              66\n",
       "Porsche            61\n",
       "Dacia              59\n",
       "Chery              58\n",
       "Москвич            55\n",
       "Jaguar             53\n",
       "Buick              47\n",
       "Lifan              47\n",
       "Cadillac           43\n",
       "Pontiac            42\n",
       "ЗАЗ                42\n",
       "Lincoln            36\n",
       "Great Wall         36\n",
       "Name: manufacturer_name, dtype: int64"
      ]
     },
     "execution_count": 104,
     "metadata": {},
     "output_type": "execute_result"
    }
   ],
   "source": [
    "used_cars[\"manufacturer_name\"].value_counts()"
   ]
  },
  {
   "cell_type": "code",
   "execution_count": null,
   "id": "e1522848",
   "metadata": {},
   "outputs": [],
   "source": []
  },
  {
   "cell_type": "code",
   "execution_count": null,
   "id": "ba39c251",
   "metadata": {},
   "outputs": [],
   "source": []
  },
  {
   "cell_type": "code",
   "execution_count": null,
   "id": "ad8009f5",
   "metadata": {},
   "outputs": [],
   "source": []
  }
 ],
 "metadata": {
  "kernelspec": {
   "display_name": "Python 3 (ipykernel)",
   "language": "python",
   "name": "python3"
  },
  "language_info": {
   "codemirror_mode": {
    "name": "ipython",
    "version": 3
   },
   "file_extension": ".py",
   "mimetype": "text/x-python",
   "name": "python",
   "nbconvert_exporter": "python",
   "pygments_lexer": "ipython3",
   "version": "3.9.7"
  }
 },
 "nbformat": 4,
 "nbformat_minor": 5
}
